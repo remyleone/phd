{
 "cells": [
  {
   "cell_type": "code",
   "execution_count": 9,
   "metadata": {
    "collapsed": false
   },
   "outputs": [],
   "source": [
    "%matplotlib inline\n",
    "import numpy as np\n",
    "import pandas as pd\n",
    "import matplotlib.pyplot as plt"
   ]
  },
  {
   "cell_type": "code",
   "execution_count": 32,
   "metadata": {
    "collapsed": false
   },
   "outputs": [],
   "source": [
    "powertracker_df = {k: pd.read_csv(\"series_powertracker_%s.csv\" % k) for k in range(2, 8)}"
   ]
  },
  {
   "cell_type": "code",
   "execution_count": 33,
   "metadata": {
    "collapsed": false
   },
   "outputs": [],
   "source": [
    "for k, df in powertracker_df.items():\n",
    "    df[\"depth\"] = k - 1\n",
    "    df[\"origin\"] = \"powertracker\"\n",
    "powertracker = pd.concat(powertracker_df.values())    "
   ]
  },
  {
   "cell_type": "code",
   "execution_count": 34,
   "metadata": {
    "collapsed": false
   },
   "outputs": [],
   "source": [
    "noinfo_df = {k: pd.read_csv(\"series_estimation_%s_noinfo.csv\" % k) for k in range(2, 8)}\n",
    "for k, df in noinfo_df.items():\n",
    "    df[\"depth\"] = k - 1\n",
    "    df[\"origin\"] = \"noinfo\"\n",
    "noinfo = pd.concat(noinfo_df.values())"
   ]
  },
  {
   "cell_type": "code",
   "execution_count": 35,
   "metadata": {
    "collapsed": false
   },
   "outputs": [],
   "source": [
    "route_df = {k: pd.read_csv(\"series_estimation_%s_route.csv\" % k) for k in range(2, 8)}\n",
    "# We know that the node at 1-hop will find a gateway always on\n",
    "# therefore repeat_sender = 1 should be the value here instead of 3.76.\n",
    "route_df[2][\"tx\"] = route_df[2].tx / 3.76\n",
    "\n",
    "for k, df in route_df.items():\n",
    "    df[\"depth\"] = k - 1\n",
    "    df[\"origin\"] = \"route\"\n",
    "route = pd.concat(route_df.values())"
   ]
  },
  {
   "cell_type": "code",
   "execution_count": 36,
   "metadata": {
    "collapsed": false
   },
   "outputs": [],
   "source": [
    "df = pd.concat([powertracker, noinfo, route])\n",
    "datetime_index = pd.DatetimeIndex(pd.to_datetime(df[\"time\"], unit=\"s\"))\n",
    "df.set_index(datetime_index, inplace=True)"
   ]
  },
  {
   "cell_type": "code",
   "execution_count": 44,
   "metadata": {
    "collapsed": false
   },
   "outputs": [
    {
     "data": {
      "image/png": "[encoded data removed]",
      "text/plain": [
       "<matplotlib.figure.Figure at 0x7f76f5d9bef0>"
      ]
     },
     "metadata": {},
     "output_type": "display_data"
    },
    {
     "data": {
      "image/png": "[encoded data removed]",
      "text/plain": [
       "<matplotlib.figure.Figure at 0x7f76f63fbda0>"
      ]
     },
     "metadata": {},
     "output_type": "display_data"
    }
   ],
   "source": [
    "# ratio par profondeur\n",
    "\n",
    "df_max_powertracker = df[df.origin == \"powertracker\"][[\"tx\", \"rx\", \"depth\"]].groupby([\"depth\"]).max()\n",
    "df_max_noinfo = df[df.origin == \"noinfo\"][[\"tx\", \"rx\", \"depth\"]].groupby([\"depth\"]).max()\n",
    "df_max_route = df[df.origin == \"route\"][[\"tx\", \"rx\", \"depth\"]].groupby([\"depth\"]).max()\n",
    "\n",
    "fig = plt.figure()\n",
    "ax = fig.add_subplot(111)\n",
    "(df_max_route / df_max_powertracker).plot(kind=\"bar\",ax=ax, legend=False)\n",
    "patches, labels = ax.get_legend_handles_labels()\n",
    "ax.legend(patches, labels)\n",
    "ax.set_xticklabels(list(range(1, 7)), rotation=0)\n",
    "ax.set_xlabel(\"Depth\")\n",
    "ax.set_ylabel(\"$\\delta$\", rotation=0)\n",
    "fig.savefig(\"global_route.pdf\", bbox_inches='tight')\n",
    "\n",
    "fig = plt.figure()\n",
    "ax = fig.add_subplot(111)\n",
    "(df_max_noinfo / df_max_powertracker).plot(kind=\"bar\", ax=ax, legend=False)\n",
    "patches, labels = ax.get_legend_handles_labels()\n",
    "ax.legend(patches, labels, loc='upper left')\n",
    "ax.set_xticklabels(list(range(1, 7)), rotation=0)\n",
    "ax.set_xlabel(\"Depth\")\n",
    "ax.set_ylabel(\"$\\delta$\", rotation=0)\n",
    "ax.set_ylim((0, 0.8))\n",
    "fig.savefig(\"global_noinfo.pdf\", bbox_inches='tight')"
   ]
  },
  {
   "cell_type": "code",
   "execution_count": 16,
   "metadata": {
    "collapsed": false
   },
   "outputs": [
    {
     "name": "stderr",
     "output_type": "stream",
     "text": [
      "/home/sieben/.local/lib/python3.4/site-packages/matplotlib/__init__.py:872: UserWarning: text.fontsize is deprecated and replaced with font.size; please use the latter.\n",
      "  warnings.warn(self.msg_depr % (key, alt_key))\n"
     ]
    }
   ],
   "source": [
    "from math import sqrt\n",
    "import matplotlib\n",
    "\n",
    "def latexify(fig_width=None, fig_height=None, columns=1):\n",
    "    \"\"\"Set up matplotlib's RC params for LaTeX plotting.\n",
    "    Call this before plotting a figure.\n",
    "\n",
    "    Parameters\n",
    "    ----------\n",
    "    fig_width : float, optional, inches\n",
    "    fig_height : float,  optional, inches\n",
    "    columns : {1, 2}\n",
    "    \"\"\"\n",
    "\n",
    "    # code adapted from http://www.scipy.org/Cookbook/Matplotlib/LaTeX_Examples\n",
    "\n",
    "    # Width and max height in inches for IEEE journals taken from\n",
    "    # computer.org/cms/Computer.org/Journal%20templates/transactions_art_guide.pdf\n",
    "\n",
    "    assert(columns in [1,2])\n",
    "\n",
    "    if fig_width is None:\n",
    "        fig_width = 3.39 if columns==1 else 6.9 # width in inches\n",
    "\n",
    "    if fig_height is None:\n",
    "        golden_mean = (sqrt(5)-1.0)/2.0    # Aesthetic ratio\n",
    "        fig_height = fig_width*golden_mean # height in inches\n",
    "\n",
    "    #MAX_HEIGHT_INCHES = 10\n",
    "    #if fig_height > MAX_HEIGHT_INCHES:\n",
    "    #    print(\"WARNING: fig_height too large:\" + fig_height + \n",
    "    #          \"so will reduce to\" + MAX_HEIGHT_INCHES + \"inches.\")\n",
    "    #    fig_height = MAX_HEIGHT_INCHES\n",
    "\n",
    "    params = {'backend': 'ps',\n",
    "              'text.latex.preamble': ['\\\\usepackage{gensymb}'],\n",
    "              'axes.labelsize': 12, # fontsize for x and y labels (was 12)\n",
    "              'axes.titlesize': 12,\n",
    "              'text.fontsize': 12, # was 12\n",
    "              'legend.fontsize': 12, # was 12\n",
    "              'xtick.labelsize': 12,\n",
    "              'ytick.labelsize': 12,\n",
    "              'text.usetex': True,\n",
    "              'figure.figsize': [fig_width,fig_height],\n",
    "              'font.family': 'serif'\n",
    "    }\n",
    "\n",
    "    matplotlib.rcParams.update(params)\n",
    "latexify(fig_width=7)"
   ]
  },
  {
   "cell_type": "code",
   "execution_count": 17,
   "metadata": {
    "collapsed": false
   },
   "outputs": [],
   "source": [
    "if False:\n",
    "    f, axarr = plt.subplots(2, 3, sharex='col', sharey='row')\n",
    "    depth = 1\n",
    "    ((noinfo_binned[depth] - real_binned[depth])/ real_binned[depth]).plot(kind=\"bar\", ax=axarr[0, 0])\n",
    "    depth = 2\n",
    "    ((noinfo_binned[depth] - real_binned[depth])/ real_binned[depth]).plot(kind=\"bar\", ax=axarr[0, 1])\n",
    "    depth = 3\n",
    "    ((noinfo_binned[depth] - real_binned[depth])/ real_binned[depth]).plot(kind=\"bar\", ax=axarr[0, 2])\n",
    "    depth = 4\n",
    "    ((noinfo_binned[depth] - real_binned[depth])/ real_binned[depth]).plot(kind=\"bar\", ax=axarr[1, 0])\n",
    "    depth = 5\n",
    "    ((noinfo_binned[depth] - real_binned[depth])/ real_binned[depth]).plot(kind=\"bar\", ax=axarr[1, 1])\n",
    "    depth = 6\n",
    "    ((noinfo_binned[depth] - real_binned[depth])/ real_binned[depth]).plot(kind=\"bar\", ax=axarr[1, 2])\n",
    "    f.savefig(\"evolution_noinfo.pdf\")"
   ]
  },
  {
   "cell_type": "code",
   "execution_count": 43,
   "metadata": {
    "collapsed": false
   },
   "outputs": [
    {
     "name": "stderr",
     "output_type": "stream",
     "text": [
      "-c:8: FutureWarning: .resample() is now a deferred operation\n",
      "use .resample(...).mean() instead of .resample(...)\n",
      "-c:12: FutureWarning: .resample() is now a deferred operation\n",
      "use .resample(...).mean() instead of .resample(...)\n",
      "-c:16: FutureWarning: .resample() is now a deferred operation\n",
      "use .resample(...).mean() instead of .resample(...)\n"
     ]
    },
    {
     "data": {
      "image/png": "[encoded data removed]",
      "text/plain": [
       "<matplotlib.figure.Figure at 0x7f76f3d12a58>"
      ]
     },
     "metadata": {},
     "output_type": "display_data"
    },
    {
     "data": {
      "image/png": "[encoded data removed]",
      "text/plain": [
       "<matplotlib.figure.Figure at 0x7f76f3eda0b8>"
      ]
     },
     "metadata": {},
     "output_type": "display_data"
    },
    {
     "data": {
      "image/png": "[encoded data removed]",
      "text/plain": [
       "<matplotlib.figure.Figure at 0x7f76f7c42978>"
      ]
     },
     "metadata": {},
     "output_type": "display_data"
    },
    {
     "data": {
      "image/png": "[encoded data removed]",
      "text/plain": [
       "<matplotlib.figure.Figure at 0x7f76f35a1ba8>"
      ]
     },
     "metadata": {},
     "output_type": "display_data"
    },
    {
     "data": {
      "image/png": "[encoded data removed]",
      "text/plain": [
       "<matplotlib.figure.Figure at 0x7f76f707f7b8>"
      ]
     },
     "metadata": {},
     "output_type": "display_data"
    },
    {
     "data": {
      "image/png": "[encoded data removed]",
      "text/plain": [
       "<matplotlib.figure.Figure at 0x7f76f7ceb630>"
      ]
     },
     "metadata": {},
     "output_type": "display_data"
    },
    {
     "data": {
      "image/png": "[encoded data removed]",
      "text/plain": [
       "<matplotlib.figure.Figure at 0x7f76f442b6a0>"
      ]
     },
     "metadata": {},
     "output_type": "display_data"
    },
    {
     "data": {
      "image/png": "[encoded data removed]",
      "text/plain": [
       "<matplotlib.figure.Figure at 0x7f76f379a860>"
      ]
     },
     "metadata": {},
     "output_type": "display_data"
    },
    {
     "data": {
      "image/png": "[encoded data removed]",
      "text/plain": [
       "<matplotlib.figure.Figure at 0x7f76f53452b0>"
      ]
     },
     "metadata": {},
     "output_type": "display_data"
    },
    {
     "data": {
      "image/png": "[encoded data removed]",
      "text/plain": [
       "<matplotlib.figure.Figure at 0x7f76f5331dd8>"
      ]
     },
     "metadata": {},
     "output_type": "display_data"
    },
    {
     "data": {
      "image/png": "[encoded data removed]",
      "text/plain": [
       "<matplotlib.figure.Figure at 0x7f76f377c4e0>"
      ]
     },
     "metadata": {},
     "output_type": "display_data"
    },
    {
     "data": {
      "image/png": "[encoded data removed]",
      "text/plain": [
       "<matplotlib.figure.Figure at 0x7f76f6cf9d68>"
      ]
     },
     "metadata": {},
     "output_type": "display_data"
    }
   ],
   "source": [
    "sample_rate = \"20s\"\n",
    "# of course, xticks depends on sample_rate\n",
    "xticks = [i for i in range(0, 200, 20)]\n",
    "\n",
    "\n",
    "real_binned = {k: df[[\"tx\", \"rx\"]][\n",
    "            (df[\"depth\"] == k) & (df[\"origin\"] == \"powertracker\")].resample(sample_rate).diff() \n",
    "               for k in range(1,8)}\n",
    "\n",
    "noinfo_binned = {k: df[[\"tx\", \"rx\"]][\n",
    "            (df[\"depth\"] == k) & (df[\"origin\"] == \"noinfo\")].resample(sample_rate).diff() \n",
    "               for k in range(1,8)}\n",
    "\n",
    "route_binned = {k: df[[\"tx\", \"rx\"]][\n",
    "            (df[\"depth\"] == k) & (df[\"origin\"] == \"route\")].resample(sample_rate).diff() \n",
    "               for k in range(1,8)}\n",
    "\n",
    "\n",
    "for depth in range(1, 7):\n",
    "    # Noinfo\n",
    "    fig = plt.figure()\n",
    "    ax = fig.add_subplot(111)\n",
    "    (noinfo_binned[depth] / real_binned[depth]).plot(kind=\"bar\",ax=ax)\n",
    "    ax.set_xticklabels(xticks, rotation=0)\n",
    "    ax.set_ylabel(\"$\\delta$\", rotation=0)\n",
    "    ax.set_ylim((0, 0.4))\n",
    "    ax.set_xlabel(\"t\")\n",
    "    fig.savefig(\"evolution_noinfo_%s.pdf\" % depth,  bbox_inches='tight')\n",
    "        \n",
    "    # Route\n",
    "    fig = plt.figure()\n",
    "    ax = fig.add_subplot(111)\n",
    "    ax = (route_binned[depth]/ real_binned[depth]).plot(kind=\"bar\", ax=ax)\n",
    "    ax.set_xticklabels(xticks, rotation=0)\n",
    "    ax.set_ylabel(\"$\\delta$\", rotation=0)\n",
    "    ax.set_ylim((0, 1))\n",
    "    ax.set_xlabel(\"t\")\n",
    "    fig.savefig(\"evolution_route_%s.pdf\" % depth,  bbox_inches='tight')"
   ]
  },
  {
   "cell_type": "code",
   "execution_count": 19,
   "metadata": {
    "collapsed": false
   },
   "outputs": [
    {
     "data": {
      "text/plain": [
       "<matplotlib.axes._subplots.AxesSubplot at 0x7f76f7710198>"
      ]
     },
     "execution_count": 19,
     "metadata": {},
     "output_type": "execute_result"
    },
    {
     "data": {
      "image/png": "[encoded data removed]",
      "text/plain": [
       "<matplotlib.figure.Figure at 0x7f76f7757748>"
      ]
     },
     "metadata": {},
     "output_type": "display_data"
    }
   ],
   "source": [
    "df[df.origin == \"powertracker\"].groupby(\"depth\").max()[[\"tx\", \"rx\"]].plot(kind=\"bar\")"
   ]
  },
  {
   "cell_type": "code",
   "execution_count": 20,
   "metadata": {
    "collapsed": false
   },
   "outputs": [
    {
     "data": {
      "text/html": [
       "<div>\n",
       "<table border=\"1\" class=\"dataframe\">\n",
       "  <thead>\n",
       "    <tr style=\"text-align: right;\">\n",
       "      <th></th>\n",
       "      <th>tx</th>\n",
       "      <th>rx</th>\n",
       "    </tr>\n",
       "  </thead>\n",
       "  <tbody>\n",
       "    <tr>\n",
       "      <th>1970-01-01 00:00:00</th>\n",
       "      <td>NaN</td>\n",
       "      <td>NaN</td>\n",
       "    </tr>\n",
       "    <tr>\n",
       "      <th>1970-01-01 00:00:20</th>\n",
       "      <td>NaN</td>\n",
       "      <td>NaN</td>\n",
       "    </tr>\n",
       "    <tr>\n",
       "      <th>1970-01-01 00:00:40</th>\n",
       "      <td>NaN</td>\n",
       "      <td>NaN</td>\n",
       "    </tr>\n",
       "    <tr>\n",
       "      <th>1970-01-01 00:01:00</th>\n",
       "      <td>0.917254</td>\n",
       "      <td>0.979620</td>\n",
       "    </tr>\n",
       "    <tr>\n",
       "      <th>1970-01-01 00:01:20</th>\n",
       "      <td>0.937720</td>\n",
       "      <td>0.978801</td>\n",
       "    </tr>\n",
       "    <tr>\n",
       "      <th>1970-01-01 00:01:40</th>\n",
       "      <td>0.928336</td>\n",
       "      <td>0.972942</td>\n",
       "    </tr>\n",
       "    <tr>\n",
       "      <th>1970-01-01 00:02:00</th>\n",
       "      <td>0.943039</td>\n",
       "      <td>0.980022</td>\n",
       "    </tr>\n",
       "    <tr>\n",
       "      <th>1970-01-01 00:02:20</th>\n",
       "      <td>0.950394</td>\n",
       "      <td>0.983348</td>\n",
       "    </tr>\n",
       "    <tr>\n",
       "      <th>1970-01-01 00:02:40</th>\n",
       "      <td>0.927125</td>\n",
       "      <td>0.971084</td>\n",
       "    </tr>\n",
       "    <tr>\n",
       "      <th>1970-01-01 00:03:00</th>\n",
       "      <td>0.910417</td>\n",
       "      <td>0.968209</td>\n",
       "    </tr>\n",
       "  </tbody>\n",
       "</table>\n",
       "</div>"
      ],
      "text/plain": [
       "                           tx        rx\n",
       "1970-01-01 00:00:00       NaN       NaN\n",
       "1970-01-01 00:00:20       NaN       NaN\n",
       "1970-01-01 00:00:40       NaN       NaN\n",
       "1970-01-01 00:01:00  0.917254  0.979620\n",
       "1970-01-01 00:01:20  0.937720  0.978801\n",
       "1970-01-01 00:01:40  0.928336  0.972942\n",
       "1970-01-01 00:02:00  0.943039  0.980022\n",
       "1970-01-01 00:02:20  0.950394  0.983348\n",
       "1970-01-01 00:02:40  0.927125  0.971084\n",
       "1970-01-01 00:03:00  0.910417  0.968209"
      ]
     },
     "execution_count": 20,
     "metadata": {},
     "output_type": "execute_result"
    }
   ],
   "source": [
    "depth = 2; ((real_binned[depth] - noinfo_binned[depth])/ real_binned[depth])"
   ]
  },
  {
   "cell_type": "code",
   "execution_count": 21,
   "metadata": {
    "collapsed": true
   },
   "outputs": [],
   "source": [
    "df_max_powertracker = df[df.origin == \"powertracker\"][[\"tx\", \"rx\", \"depth\"]].groupby([\"depth\"]).max()\n",
    "df_max_noinfo = df[df.origin == \"noinfo\"][[\"tx\", \"rx\", \"depth\"]].groupby([\"depth\"]).max()\n",
    "df_max_route = df[df.origin == \"route\"][[\"tx\", \"rx\", \"depth\"]].groupby([\"depth\"]).max()"
   ]
  },
  {
   "cell_type": "code",
   "execution_count": 31,
   "metadata": {
    "collapsed": false
   },
   "outputs": [
    {
     "data": {
      "text/html": [
       "<div>\n",
       "<table border=\"1\" class=\"dataframe\">\n",
       "  <thead>\n",
       "    <tr style=\"text-align: right;\">\n",
       "      <th></th>\n",
       "      <th>tx</th>\n",
       "      <th>rx</th>\n",
       "    </tr>\n",
       "    <tr>\n",
       "      <th>depth</th>\n",
       "      <th></th>\n",
       "      <th></th>\n",
       "    </tr>\n",
       "  </thead>\n",
       "  <tbody>\n",
       "    <tr>\n",
       "      <th>1</th>\n",
       "      <td>1.490837</td>\n",
       "      <td>1.068145</td>\n",
       "    </tr>\n",
       "    <tr>\n",
       "      <th>2</th>\n",
       "      <td>6.221493</td>\n",
       "      <td>0.922948</td>\n",
       "    </tr>\n",
       "    <tr>\n",
       "      <th>3</th>\n",
       "      <td>4.722379</td>\n",
       "      <td>0.941132</td>\n",
       "    </tr>\n",
       "    <tr>\n",
       "      <th>4</th>\n",
       "      <td>5.291066</td>\n",
       "      <td>0.843023</td>\n",
       "    </tr>\n",
       "    <tr>\n",
       "      <th>5</th>\n",
       "      <td>3.083423</td>\n",
       "      <td>0.878003</td>\n",
       "    </tr>\n",
       "    <tr>\n",
       "      <th>6</th>\n",
       "      <td>3.455043</td>\n",
       "      <td>0.124668</td>\n",
       "    </tr>\n",
       "  </tbody>\n",
       "</table>\n",
       "</div>"
      ],
      "text/plain": [
       "             tx        rx\n",
       "depth                    \n",
       "1      1.490837  1.068145\n",
       "2      6.221493  0.922948\n",
       "3      4.722379  0.941132\n",
       "4      5.291066  0.843023\n",
       "5      3.083423  0.878003\n",
       "6      3.455043  0.124668"
      ]
     },
     "execution_count": 31,
     "metadata": {},
     "output_type": "execute_result"
    }
   ],
   "source": [
    "df_max_powertracker"
   ]
  },
  {
   "cell_type": "code",
   "execution_count": null,
   "metadata": {
    "collapsed": true
   },
   "outputs": [],
   "source": []
  }
 ],
 "metadata": {
  "kernelspec": {
   "display_name": "IPython (Python 3)",
   "language": "python",
   "name": "python3"
  },
  "language_info": {
   "codemirror_mode": {
    "name": "ipython",
    "version": 3
   },
   "file_extension": ".py",
   "mimetype": "text/x-python",
   "name": "python",
   "nbconvert_exporter": "python",
   "pygments_lexer": "ipython3",
   "version": "3.4.3"
  }
 },
 "nbformat": 4,
 "nbformat_minor": 0
}
