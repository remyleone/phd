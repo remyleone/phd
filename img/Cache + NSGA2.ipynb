{
 "cells": [
  {
   "cell_type": "markdown",
   "metadata": {},
   "source": [
    "# Hypothèses de travail\n",
    "\n",
    "- On a un graph de connexion que l'on connait au niveau de la passerelle avec une précision plus ou moins grande. On connait au moins les noeuds mais on ne connait pas forcement les arêtes (route ou bien lien radios) entre les noeuds.\n",
    "\n",
    "- Cette information est juste indispensable pour connaitre les impacts de restrictions de traffic via le cache sur l'ensemble des noeuds."
   ]
  },
  {
   "cell_type": "code",
   "execution_count": 30,
   "metadata": {
    "collapsed": false
   },
   "outputs": [
    {
     "data": {
      "text/html": [
       "<div>\n",
       "<table border=\"1\" class=\"dataframe\">\n",
       "  <thead>\n",
       "    <tr style=\"text-align: right;\">\n",
       "      <th></th>\n",
       "      <th>battery</th>\n",
       "      <th>freq_min</th>\n",
       "      <th>freq_max</th>\n",
       "      <th>t_request</th>\n",
       "    </tr>\n",
       "    <tr>\n",
       "      <th>nodes</th>\n",
       "      <th></th>\n",
       "      <th></th>\n",
       "      <th></th>\n",
       "      <th></th>\n",
       "    </tr>\n",
       "  </thead>\n",
       "  <tbody>\n",
       "    <tr>\n",
       "      <th>0</th>\n",
       "      <td>100</td>\n",
       "      <td>1</td>\n",
       "      <td>9</td>\n",
       "      <td>1</td>\n",
       "    </tr>\n",
       "    <tr>\n",
       "      <th>1</th>\n",
       "      <td>100</td>\n",
       "      <td>1</td>\n",
       "      <td>9</td>\n",
       "      <td>1</td>\n",
       "    </tr>\n",
       "    <tr>\n",
       "      <th>2</th>\n",
       "      <td>100</td>\n",
       "      <td>1</td>\n",
       "      <td>9</td>\n",
       "      <td>1</td>\n",
       "    </tr>\n",
       "    <tr>\n",
       "      <th>3</th>\n",
       "      <td>100</td>\n",
       "      <td>1</td>\n",
       "      <td>9</td>\n",
       "      <td>1</td>\n",
       "    </tr>\n",
       "    <tr>\n",
       "      <th>4</th>\n",
       "      <td>100</td>\n",
       "      <td>1</td>\n",
       "      <td>9</td>\n",
       "      <td>1</td>\n",
       "    </tr>\n",
       "    <tr>\n",
       "      <th>5</th>\n",
       "      <td>100</td>\n",
       "      <td>1</td>\n",
       "      <td>9</td>\n",
       "      <td>1</td>\n",
       "    </tr>\n",
       "    <tr>\n",
       "      <th>6</th>\n",
       "      <td>100</td>\n",
       "      <td>1</td>\n",
       "      <td>9</td>\n",
       "      <td>1</td>\n",
       "    </tr>\n",
       "    <tr>\n",
       "      <th>7</th>\n",
       "      <td>100</td>\n",
       "      <td>1</td>\n",
       "      <td>9</td>\n",
       "      <td>1</td>\n",
       "    </tr>\n",
       "    <tr>\n",
       "      <th>8</th>\n",
       "      <td>100</td>\n",
       "      <td>1</td>\n",
       "      <td>9</td>\n",
       "      <td>1</td>\n",
       "    </tr>\n",
       "    <tr>\n",
       "      <th>9</th>\n",
       "      <td>100</td>\n",
       "      <td>1</td>\n",
       "      <td>9</td>\n",
       "      <td>1</td>\n",
       "    </tr>\n",
       "    <tr>\n",
       "      <th>10</th>\n",
       "      <td>100</td>\n",
       "      <td>1</td>\n",
       "      <td>9</td>\n",
       "      <td>1</td>\n",
       "    </tr>\n",
       "    <tr>\n",
       "      <th>11</th>\n",
       "      <td>100</td>\n",
       "      <td>1</td>\n",
       "      <td>9</td>\n",
       "      <td>1</td>\n",
       "    </tr>\n",
       "    <tr>\n",
       "      <th>12</th>\n",
       "      <td>100</td>\n",
       "      <td>1</td>\n",
       "      <td>9</td>\n",
       "      <td>1</td>\n",
       "    </tr>\n",
       "  </tbody>\n",
       "</table>\n",
       "</div>"
      ],
      "text/plain": [
       "       battery  freq_min  freq_max  t_request\n",
       "nodes                                        \n",
       "0          100         1         9          1\n",
       "1          100         1         9          1\n",
       "2          100         1         9          1\n",
       "3          100         1         9          1\n",
       "4          100         1         9          1\n",
       "5          100         1         9          1\n",
       "6          100         1         9          1\n",
       "7          100         1         9          1\n",
       "8          100         1         9          1\n",
       "9          100         1         9          1\n",
       "10         100         1         9          1\n",
       "11         100         1         9          1\n",
       "12         100         1         9          1"
      ]
     },
     "execution_count": 30,
     "metadata": {},
     "output_type": "execute_result"
    },
    {
     "data": {
      "image/png": "[encoded data removed]",
      "text/plain": [
       "<matplotlib.figure.Figure at 0x7fac0036c438>"
      ]
     },
     "metadata": {},
     "output_type": "display_data"
    }
   ],
   "source": [
    "%matplotlib inline\n",
    "\n",
    "import pandas as pd\n",
    "import random\n",
    "import matplotlib.pyplot as plt\n",
    "import networkx as nx\n",
    "import numpy as np\n",
    "\n",
    "# Typical balanced topology\n",
    "g = nx.DiGraph()\n",
    "g.add_edges_from([(1, 0), (3, 0), (5, 0), (7, 0), \n",
    "                  (2, 3), (4, 5), (6, 7), (8, 1),\n",
    "                  (10, 4), (11, 6), (12, 8), (9, 2)])\n",
    "\n",
    "# Dessin du graphe\n",
    "pos = nx.spring_layout(g)\n",
    "nx.draw_networkx_labels(g, pos=pos)\n",
    "nx.draw_networkx_edges(g, pos, edge_color='r', arrows=True)\n",
    "\n",
    "# On ajoute des attributs aléatoires au noeuds\n",
    "g.add_nodes_from([(node_id, {\n",
    "                \"battery\": 100, \n",
    "                \"freq_min\": 1,\n",
    "                \"t_request\": 1,\n",
    "                \"freq_max\": 9}) for node_id in g.nodes()])\n",
    "\n",
    "N = len(g.nodes())\n",
    "\n",
    "# On met toutes ces données dans un joli tableau\n",
    "df = pd.DataFrame(index=pd.Index(g.nodes(), name=\"nodes\"))\n",
    "for attribute in [\"battery\", \"freq_min\", \"freq_max\", \"t_request\"]:\n",
    "    temp = nx.get_node_attributes(g, attribute)\n",
    "    temp_df = pd.DataFrame.from_dict(temp, orient=\"index\").rename(columns={0: attribute})\n",
    "    df = df.join(temp_df)\n",
    "\n",
    "# Dessin\n",
    "nx.draw(g, pos=pos)\n",
    "\n",
    "# Tableau\n",
    "df"
   ]
  },
  {
   "cell_type": "markdown",
   "metadata": {},
   "source": [
    "- Battery: (noté $b_i$) Représente le budget d'énergie que nous avons a notre disposition. Un noeud est considéré comme mort ssi son budget est nul.\n",
    "\n",
    "- freq_min: (noté $f_{min}$) La fréquence minimale a partir de laquelle il faut redemander une information. Typiquement la température d'une pièce a probablement changé au bout d'une heure, il nous faut une fréquence de $f_{min} = \\frac{1}{60}$ Hz.\n",
    "\n",
    "- freq_max: (noté $f_{max}$) La fréquence maximale a partir de laquelle ça n'a plus de sens de demander plus souvent une information. Typiquement la temperature d'une pièce n'a pas changé en une seconde par conséquent la fréquence max est de $f_{max} = 1$ Hz.\n",
    "\n",
    "- lifetime: (noté $l_i$) est le temps de vie qu'un utilisateur fixe pour un noeud donné. "
   ]
  },
  {
   "cell_type": "markdown",
   "metadata": {},
   "source": [
    "# Matrice d'impact\n",
    "\n",
    "Nous souhaitons pouvoir déduire comment une frequence de requête sur un noeud va affecter les autres. Par conséquent nous souhaitons trouver une matrice qui peut facilement nous aider via un vecteur de requêtes d'entrée, trouver le nombre de requetes véritablement traitées en prenant en compte le forwarding.\n",
    "\n",
    "Soit A la matrice d'adjacence du graphe $G$ que nous étudions. Il suffit de calculer :\n",
    "l'inverse de $Id - A$...\n",
    "Comme $A$ est nilpotente, $Id - A$ est forcément inversible et on a $(Id - A)^{-1} = Id + A + A^2 + ...$"
   ]
  },
  {
   "cell_type": "code",
   "execution_count": 16,
   "metadata": {
    "collapsed": false
   },
   "outputs": [],
   "source": [
    "def impact_matrix(g):\n",
    "    \"\"\"\n",
    "    La matrice d'impact va nous donner la somme aggrégées des frequences de requetes\n",
    "    admissibles pour un noeud en tenant compte des voisins.\n",
    "    \"\"\"\n",
    "    nodes = sorted(g.nodes())\n",
    "    n = len(nodes)\n",
    "    adj_matrix = nx.adjacency_matrix(g, nodelist=nodes).T\n",
    "    return ((np.identity(n) - adj_matrix) ** (-1))\n",
    "\n",
    "# Si on prends une requête du noeud 5, elle va impacter les noeuds 0, 2 et 5\n",
    "#impact_matrix(g) * np.array([0, 0, 0, 0, 0, 1, 0]).reshape((7,1))"
   ]
  },
  {
   "cell_type": "markdown",
   "metadata": {},
   "source": [
    "# Resolution par un problème d'optimisation linéaire\n",
    "\n",
    "- Pour toutes les frequences que l'on désire trouver on sait qu'il existe des bornes sur les fréquences :\n",
    "$$\\forall f_i, \\exists (f_{min}, f_{max}) : f_{min} \\leq f_i \\leq f_{max} $$\n",
    "\n",
    "- Pour chaque frequence cumulée sur un noeud on sait que l'on a l'inégalité suivante dans le cas où la fréquence est admissible :\n",
    "\n",
    "$$ f_{i} \\leq \\frac{b_i}{l_i c_i}$$\n",
    "\n",
    "où \n",
    "\n",
    "$b_i$ représente la batterie disponible sur le noeud $i$,\n",
    "\n",
    "$l_i$ représente l'objectif de durée de vie imposée par l'utilisateur\n",
    "\n",
    "$c_i$ représente le cout par paquet (peut être mis a jour dynamiquement).\n",
    "\n",
    "Cette fréquence est une *borne sup*. La quantité maximale de requêtes qu'un sytème peut gérer.\n",
    "\n",
    "## Problématiques\n",
    "\n",
    "Il y a deux problèmes principaux:\n",
    "\n",
    "### Avec une durée de vie fixée, \n",
    "\n",
    "- Fonction économique pour une durée de vie donnée et des performances aussi réactives que possible\n",
    "$$max(\\sum f_i)$$\n",
    "\n",
    "- Fonction économique pour augmenter les temps de cache et augmenter la durée de vie autant que possible\n",
    "$$min(\\sum f_i)$$\n",
    "\n"
   ]
  },
  {
   "cell_type": "code",
   "execution_count": 17,
   "metadata": {
    "collapsed": false
   },
   "outputs": [
    {
     "data": {
      "text/html": [
       "<div>\n",
       "<table border=\"1\" class=\"dataframe\">\n",
       "  <thead>\n",
       "    <tr style=\"text-align: right;\">\n",
       "      <th></th>\n",
       "      <th>battery</th>\n",
       "      <th>freq_min</th>\n",
       "      <th>freq_max</th>\n",
       "      <th>t_request</th>\n",
       "    </tr>\n",
       "    <tr>\n",
       "      <th>nodes</th>\n",
       "      <th></th>\n",
       "      <th></th>\n",
       "      <th></th>\n",
       "      <th></th>\n",
       "    </tr>\n",
       "  </thead>\n",
       "  <tbody>\n",
       "    <tr>\n",
       "      <th>0</th>\n",
       "      <td>100</td>\n",
       "      <td>1</td>\n",
       "      <td>9</td>\n",
       "      <td>1</td>\n",
       "    </tr>\n",
       "    <tr>\n",
       "      <th>1</th>\n",
       "      <td>100</td>\n",
       "      <td>1</td>\n",
       "      <td>9</td>\n",
       "      <td>1</td>\n",
       "    </tr>\n",
       "    <tr>\n",
       "      <th>2</th>\n",
       "      <td>100</td>\n",
       "      <td>1</td>\n",
       "      <td>9</td>\n",
       "      <td>1</td>\n",
       "    </tr>\n",
       "    <tr>\n",
       "      <th>3</th>\n",
       "      <td>100</td>\n",
       "      <td>1</td>\n",
       "      <td>9</td>\n",
       "      <td>1</td>\n",
       "    </tr>\n",
       "    <tr>\n",
       "      <th>4</th>\n",
       "      <td>100</td>\n",
       "      <td>1</td>\n",
       "      <td>9</td>\n",
       "      <td>1</td>\n",
       "    </tr>\n",
       "    <tr>\n",
       "      <th>5</th>\n",
       "      <td>100</td>\n",
       "      <td>1</td>\n",
       "      <td>9</td>\n",
       "      <td>1</td>\n",
       "    </tr>\n",
       "    <tr>\n",
       "      <th>6</th>\n",
       "      <td>100</td>\n",
       "      <td>1</td>\n",
       "      <td>9</td>\n",
       "      <td>1</td>\n",
       "    </tr>\n",
       "    <tr>\n",
       "      <th>7</th>\n",
       "      <td>100</td>\n",
       "      <td>1</td>\n",
       "      <td>9</td>\n",
       "      <td>1</td>\n",
       "    </tr>\n",
       "    <tr>\n",
       "      <th>8</th>\n",
       "      <td>100</td>\n",
       "      <td>1</td>\n",
       "      <td>9</td>\n",
       "      <td>1</td>\n",
       "    </tr>\n",
       "    <tr>\n",
       "      <th>9</th>\n",
       "      <td>100</td>\n",
       "      <td>1</td>\n",
       "      <td>9</td>\n",
       "      <td>1</td>\n",
       "    </tr>\n",
       "    <tr>\n",
       "      <th>10</th>\n",
       "      <td>100</td>\n",
       "      <td>1</td>\n",
       "      <td>9</td>\n",
       "      <td>1</td>\n",
       "    </tr>\n",
       "    <tr>\n",
       "      <th>11</th>\n",
       "      <td>100</td>\n",
       "      <td>1</td>\n",
       "      <td>9</td>\n",
       "      <td>1</td>\n",
       "    </tr>\n",
       "    <tr>\n",
       "      <th>12</th>\n",
       "      <td>100</td>\n",
       "      <td>1</td>\n",
       "      <td>9</td>\n",
       "      <td>1</td>\n",
       "    </tr>\n",
       "  </tbody>\n",
       "</table>\n",
       "</div>"
      ],
      "text/plain": [
       "       battery  freq_min  freq_max  t_request\n",
       "nodes                                        \n",
       "0          100         1         9          1\n",
       "1          100         1         9          1\n",
       "2          100         1         9          1\n",
       "3          100         1         9          1\n",
       "4          100         1         9          1\n",
       "5          100         1         9          1\n",
       "6          100         1         9          1\n",
       "7          100         1         9          1\n",
       "8          100         1         9          1\n",
       "9          100         1         9          1\n",
       "10         100         1         9          1\n",
       "11         100         1         9          1\n",
       "12         100         1         9          1"
      ]
     },
     "execution_count": 17,
     "metadata": {},
     "output_type": "execute_result"
    }
   ],
   "source": [
    "#from scipy.optimize import linprog\n",
    "\n",
    "# On considère que toutes les frequences se valent. Il pourrait être intéressant d'avoir des fonctions économiques\n",
    "# plus évoluées. Par exemple on pourrait penser a des distributions de fréquences qui respectent la demande\n",
    "# des requêtes pour un contenu particulier. C'est le temple de l'arbitraire mieux vaut ne pas y passer trop de temps.\n",
    "\n",
    "#c = np.ones(len(g.nodes()))\n",
    "#A = impact_matrix(g)\n",
    "\n",
    "# Frequence minimale et maximale. Ça n'a pas beaucoup de sens de considerer une frequence de 300 milliards de requetes\n",
    "# par secondes et ça n'a pas beaucoup de sens non plus de mettre en cache une requete pour un millineaire.\n",
    "\n",
    "#bounds = [(elem_min, elem_max) for (elem_min, elem_max) in zip(df.freq_min, df.freq_max)]\n",
    "#b = (df.battery / (df.lifetime * df.cost_per_packet)).sort_index()\n",
    "\n",
    "# Where all the magic happen.\n",
    "#res = linprog(-1 * c, A_ub=A, b_ub=b, bounds=bounds, options={\"disp\": True})\n",
    "#freq = pd.DataFrame(res.x, index=pd.Index(g.nodes(), name=\"nodes\"), columns=[\"freq\"])\n",
    "\n",
    "#df[\"freq\"] = freq\n",
    "#df[\"satisfaction\"] = (df.freq_max - df.freq) / (df.freq_max - df.freq_min)\n",
    "#df[\"cache_time\"] = 1 / freq\n",
    "df"
   ]
  },
  {
   "cell_type": "code",
   "execution_count": 18,
   "metadata": {
    "collapsed": false
   },
   "outputs": [
    {
     "ename": "AttributeError",
     "evalue": "'DataFrame' object has no attribute 'c_min'",
     "output_type": "error",
     "traceback": [
      "\u001b[1;31m---------------------------------------------------------------------------\u001b[0m",
      "\u001b[1;31mAttributeError\u001b[0m                            Traceback (most recent call last)",
      "\u001b[1;32m<ipython-input-18-0b9d5f1a836a>\u001b[0m in \u001b[0;36m<module>\u001b[1;34m()\u001b[0m\n\u001b[0;32m      4\u001b[0m \u001b[0mr\u001b[0m \u001b[1;33m=\u001b[0m \u001b[0mredis\u001b[0m\u001b[1;33m.\u001b[0m\u001b[0mRedis\u001b[0m\u001b[1;33m(\u001b[0m\u001b[1;33m)\u001b[0m\u001b[1;33m\u001b[0m\u001b[0m\n\u001b[0;32m      5\u001b[0m \u001b[1;33m\u001b[0m\u001b[0m\n\u001b[1;32m----> 6\u001b[1;33m \u001b[0mttl_min\u001b[0m \u001b[1;33m=\u001b[0m \u001b[0mdf\u001b[0m\u001b[1;33m.\u001b[0m\u001b[0mc_min\u001b[0m\u001b[1;33m.\u001b[0m\u001b[0mto_dict\u001b[0m\u001b[1;33m(\u001b[0m\u001b[1;33m)\u001b[0m\u001b[1;33m\u001b[0m\u001b[0m\n\u001b[0m\u001b[0;32m      7\u001b[0m \u001b[0mttl_max\u001b[0m \u001b[1;33m=\u001b[0m \u001b[0mdf\u001b[0m\u001b[1;33m.\u001b[0m\u001b[0mc_max\u001b[0m\u001b[1;33m.\u001b[0m\u001b[0mto_dict\u001b[0m\u001b[1;33m(\u001b[0m\u001b[1;33m)\u001b[0m\u001b[1;33m\u001b[0m\u001b[0m\n\u001b[0;32m      8\u001b[0m \u001b[1;33m\u001b[0m\u001b[0m\n",
      "\u001b[1;32m/home/sieben/.local/lib/python3.4/site-packages/pandas/core/generic.py\u001b[0m in \u001b[0;36m__getattr__\u001b[1;34m(self, name)\u001b[0m\n\u001b[0;32m   2667\u001b[0m             \u001b[1;32mif\u001b[0m \u001b[0mname\u001b[0m \u001b[1;32min\u001b[0m \u001b[0mself\u001b[0m\u001b[1;33m.\u001b[0m\u001b[0m_info_axis\u001b[0m\u001b[1;33m:\u001b[0m\u001b[1;33m\u001b[0m\u001b[0m\n\u001b[0;32m   2668\u001b[0m                 \u001b[1;32mreturn\u001b[0m \u001b[0mself\u001b[0m\u001b[1;33m[\u001b[0m\u001b[0mname\u001b[0m\u001b[1;33m]\u001b[0m\u001b[1;33m\u001b[0m\u001b[0m\n\u001b[1;32m-> 2669\u001b[1;33m             \u001b[1;32mreturn\u001b[0m \u001b[0mobject\u001b[0m\u001b[1;33m.\u001b[0m\u001b[0m__getattribute__\u001b[0m\u001b[1;33m(\u001b[0m\u001b[0mself\u001b[0m\u001b[1;33m,\u001b[0m \u001b[0mname\u001b[0m\u001b[1;33m)\u001b[0m\u001b[1;33m\u001b[0m\u001b[0m\n\u001b[0m\u001b[0;32m   2670\u001b[0m \u001b[1;33m\u001b[0m\u001b[0m\n\u001b[0;32m   2671\u001b[0m     \u001b[1;32mdef\u001b[0m \u001b[0m__setattr__\u001b[0m\u001b[1;33m(\u001b[0m\u001b[0mself\u001b[0m\u001b[1;33m,\u001b[0m \u001b[0mname\u001b[0m\u001b[1;33m,\u001b[0m \u001b[0mvalue\u001b[0m\u001b[1;33m)\u001b[0m\u001b[1;33m:\u001b[0m\u001b[1;33m\u001b[0m\u001b[0m\n",
      "\u001b[1;31mAttributeError\u001b[0m: 'DataFrame' object has no attribute 'c_min'"
     ]
    }
   ],
   "source": [
    "import redis\n",
    "import time\n",
    "\n",
    "r = redis.Redis()\n",
    "\n",
    "ttl_min = df.c_min.to_dict()\n",
    "ttl_max = df.c_max.to_dict()\n",
    "\n",
    "def test_ttl(ttl, prefix=None):\n",
    "    if prefix is None:\n",
    "        prefix = \"\"\n",
    "    for request_id in range(1000):\n",
    "        uri = np.random.choice(list(ttl.keys()))\n",
    "        if r.exists(prefix + uri):\n",
    "            print(request_id, uri, \"h\")\n",
    "        else:\n",
    "            # Faire la requête CoAP ici\n",
    "            r.setex(name=prefix + uri, time=ttl[uri], value=\"Hello World\")\n",
    "            print(request_id, uri, \"m\")\n",
    "        sleep_time = np.random.exponential()\n",
    "        time.sleep(sleep_time)\n",
    "\n",
    "# We add a prefix to don't have key conflict in case of parallel simulations\n",
    "test_ttl(ttl_max, prefix=\"ttl_max\")\n",
    "test_ttl(ttl_min, prefix=\"ttl_min\")"
   ]
  },
  {
   "cell_type": "markdown",
   "metadata": {},
   "source": [
    "## Optimisation multi-objectifs"
   ]
  },
  {
   "cell_type": "code",
   "execution_count": 22,
   "metadata": {
    "collapsed": true
   },
   "outputs": [],
   "source": [
    "def ratio(c, t):\n",
    "    if t <= c:\n",
    "        return np.ceil(c / t) * t\n",
    "    else:\n",
    "        return t\n",
    "rfunc = np.vectorize(ratio)"
   ]
  },
  {
   "cell_type": "markdown",
   "metadata": {},
   "source": [
    "### Définition de la durée de vie du réseau\n",
    "\n",
    "C'est dans cette fonction que l'on va utiliser la topologie du réseau ainsi que la durée de cache pour calculer une durée de vie"
   ]
  },
  {
   "cell_type": "code",
   "execution_count": 24,
   "metadata": {
    "collapsed": false
   },
   "outputs": [],
   "source": [
    "import numpy as np\n",
    "\n",
    "# Settings\n",
    "\n",
    "Vdd = 3\n",
    "I_tx = 11.6e-3\n",
    "I_sleep = 80e-9\n",
    "I_idle = 396e-6\n",
    "I_rx = 12.7e-3\n",
    "I_sleep_idle = 691e-12\n",
    "I_idle_tx = 6.63e-6\n",
    "I_idle_rx = 6.63e-6\n",
    "P_tx = I_tx * Vdd\n",
    "P_sleep = I_sleep * Vdd\n",
    "P_idle = I_idle * Vdd\n",
    "P_rx = I_rx * Vdd\n",
    "\n",
    "Energy = Vdd * 3 * 3600\n",
    "\n",
    "# Communications settings\n",
    "\n",
    "R = 250000\n",
    "L_get = 87 * 8\n",
    "L_Ans = 96 * 8\n",
    "S_get = L_get / R\n",
    "S_Ans = L_Ans / R\n",
    "S_ack = 0.608e-3\n",
    "S_get_Rxtx = S_ack\n",
    "S_Ans_Rxtx = S_ack\n",
    "T_period = 0.244\n",
    "T_d = 0.16e-3\n",
    "T_p = 0.4e-3\n",
    "\n",
    "t_act = 4e-4\n",
    "t_sleep = T_period - t_act\n",
    "\n",
    "S_get_Rxrx = (3 * S_get) / 2 + T_p\n",
    "S_Ans_Rxrx = (3 * S_Ans) / 2 + T_p\n",
    "S_Ans_Txrx = (3 + np.floor((t_sleep - S_Ans) / S_Ans)) * T_d / 2 + S_ack\n",
    "S_get_Txrx = (3 + np.floor((t_sleep - S_get) / S_get)) * T_d / 2 + S_ack\n",
    "S_Ans_Txtx = (3 + np.floor((t_sleep - S_Ans) / S_Ans)) * S_Ans / 2\n",
    "S_get_Txtx = (3 + np.floor((t_sleep - S_get) / S_get)) * S_get / 2\n",
    "\n",
    "gamma_rx_get = P_sleep * (3 * S_get / 2 + T_p + S_ack) / T_period\n",
    "gamma_rx_Ans = P_sleep * (3 * S_Ans / 2 + T_p + S_ack) / T_period\n",
    "gamma_tx_get = P_sleep * ((3 + np.floor((t_sleep-S_get)/S_get))/2*(S_get+T_d) + S_ack) / T_period\n",
    "gamma_tx_Ans = P_sleep * ((3 + np.floor((t_sleep-S_Ans)/S_Ans))/2*(S_Ans+T_d) + S_ack) / T_period\n",
    "\n",
    "omega_sleep = P_sleep * t_sleep / T_period\\\n",
    "                - gamma_tx_Ans - gamma_rx_Ans\\\n",
    "                - gamma_rx_get - gamma_tx_get \n",
    "omega_cl = t_act * P_rx / T_period\n",
    "\n",
    "mat = impact_matrix(g)\n",
    "\n",
    "def lifetime(g, c, t_request):\n",
    "    \"\"\"\n",
    "    Each omega variable will be a vector containing the related\n",
    "    value for the node $i$ at index $i$.\n",
    "    \"\"\"   \n",
    "    # Attention au cas de la racine ou l = 0\n",
    "    r = rfunc(c, t_request)\n",
    "    \n",
    "    N = len(g.nodes())\n",
    "\n",
    "    omega_CoAP_rx = (P_tx * S_get_Rxrx + P_rx * S_get_Rxtx) / r\n",
    "    omega_CoAP_tx = (P_tx * S_Ans_Txtx + P_rx * S_Ans_Txrx) / r\n",
    "    \n",
    "    # On calcule les couts de retransmission en utilisant la matrice d'impact\n",
    "    omega_forward_rx = mat.dot(omega_CoAP_rx)\n",
    "    omega_forward_tx = mat.dot(omega_CoAP_tx)\n",
    "    \n",
    "    omega_tot = (omega_sleep + omega_cl\\\n",
    "                + omega_CoAP_tx + omega_CoAP_rx\\\n",
    "                + omega_forward_rx\\\n",
    "                + omega_forward_tx).reshape(N)\n",
    "    res = df.battery.values / omega_tot\n",
    "    return np.argmin(res), res.min()"
   ]
  },
  {
   "cell_type": "code",
   "execution_count": 25,
   "metadata": {
    "collapsed": false
   },
   "outputs": [],
   "source": [
    "def satisfaction(c, cmax=None, cmin=None):\n",
    "    if cmax is None:\n",
    "        cmax = df.freq_max\n",
    "    if cmin is None:\n",
    "        cmin = df.freq_min\n",
    "    return (cmax - c) / (cmax - cmin)"
   ]
  },
  {
   "cell_type": "markdown",
   "metadata": {},
   "source": [
    "### Méthode d'évaluation\n",
    "\n",
    "C'est cette méthode qui va dire à quel point notre individu est adapté. On transforme\n",
    "un génotype en un phénotype et nous le jugeons."
   ]
  },
  {
   "cell_type": "code",
   "execution_count": 26,
   "metadata": {
    "collapsed": false
   },
   "outputs": [],
   "source": [
    "c = np.random.uniform(1, 9, len(g.nodes()))\n",
    "max_lifetime = lifetime(g, df.freq_max, df.t_request)[1]\n",
    "min_lifetime = lifetime(g, df.freq_min, df.t_request)[1]\n",
    "\n",
    "def fitness(c):\n",
    "    cmin, cmax = df.freq_min, df.freq_max\n",
    "    mean_satisfaction = np.mean(satisfaction(c, cmin=cmin, cmax=cmax))\n",
    "    life = lifetime(g, c, df.t_request)[1] / (24 * 3600)\n",
    "    lifetime_norm = (life - min_lifetime) / (max_lifetime - min_lifetime)\n",
    "    return (mean_satisfaction, lifetime_norm)\n",
    "\n",
    "#c, lifetime(g, c, df.t_request), fitness(c)"
   ]
  },
  {
   "cell_type": "code",
   "execution_count": 27,
   "metadata": {
    "collapsed": false
   },
   "outputs": [],
   "source": [
    "from deap import base, creator, tools, algorithms\n",
    "\n",
    "creator.create(\"FitnessMax\", base.Fitness, weights=(1.0, 1.0))\n",
    "creator.create(\"Individual\", list, fitness=creator.FitnessMax)"
   ]
  },
  {
   "cell_type": "code",
   "execution_count": 31,
   "metadata": {
    "collapsed": false
   },
   "outputs": [
    {
     "name": "stdout",
     "output_type": "stream",
     "text": [
      "gen\tnevals\tmean    \tmin      \tmax     \n",
      "0  \t500   \t0.186206\t-0.126045\t0.736304\n",
      "1  \t500   \t0.193737\t-0.126045\t0.73823 \n",
      "2  \t500   \t0.198705\t-0.126045\t0.749474\n",
      "3  \t500   \t0.194712\t-0.126045\t0.749474\n",
      "4  \t500   \t0.19831 \t-0.126045\t0.749474\n",
      "5  \t500   \t0.196526\t-0.126045\t0.752487\n",
      "6  \t500   \t0.192936\t-0.126045\t0.756612\n",
      "7  \t500   \t0.191072\t-0.126045\t0.782823\n",
      "8  \t500   \t0.18816 \t-0.126045\t0.806817\n",
      "9  \t500   \t0.188805\t-0.126045\t0.813879\n",
      "10 \t500   \t0.18658 \t-0.126045\t0.813879\n",
      "11 \t500   \t0.181573\t-0.126045\t0.813879\n",
      "12 \t500   \t0.187394\t-0.126045\t0.813879\n",
      "13 \t500   \t0.190453\t-0.126045\t0.813879\n",
      "14 \t500   \t0.189649\t-0.126045\t0.813879\n",
      "15 \t500   \t0.191783\t-0.126045\t0.818424\n",
      "16 \t500   \t0.196909\t-0.126045\t0.821521\n",
      "17 \t500   \t0.195144\t-0.126045\t0.822889\n",
      "18 \t500   \t0.192846\t-0.126045\t0.822889\n",
      "19 \t500   \t0.192496\t-0.126045\t0.823863\n",
      "20 \t500   \t0.199409\t-0.126045\t0.832508\n",
      "21 \t500   \t0.196509\t-0.126045\t0.832508\n",
      "22 \t500   \t0.190946\t-0.126045\t0.832508\n",
      "23 \t500   \t0.189451\t-0.126045\t0.832508\n",
      "24 \t500   \t0.189627\t-0.126045\t0.835216\n",
      "25 \t500   \t0.194552\t-0.126045\t0.83727 \n",
      "26 \t500   \t0.197444\t-0.126045\t0.83727 \n",
      "27 \t500   \t0.191499\t-0.126045\t0.838052\n",
      "28 \t500   \t0.192057\t-0.126045\t0.839871\n",
      "29 \t500   \t0.197642\t-0.126045\t0.839871\n",
      "30 \t500   \t0.195343\t-0.126045\t0.839871\n"
     ]
    },
    {
     "data": {
      "image/png": "[encoded data removed]",
      "text/plain": [
       "<matplotlib.figure.Figure at 0x7fac0010c4e0>"
      ]
     },
     "metadata": {},
     "output_type": "display_data"
    }
   ],
   "source": [
    "from deap import creator\n",
    "from deap.base import Toolbox, Fitness\n",
    "from deap.tools import selNSGA2, mutPolynomialBounded, cxSimulatedBinaryBounded\n",
    "from deap.tools import initRepeat, initIterate, Statistics, emo\n",
    "from deap.algorithms import eaSimple, eaMuPlusLambda\n",
    "from operator import attrgetter\n",
    "from copy import deepcopy\n",
    "\n",
    "\n",
    "toolbox = Toolbox()\n",
    "\n",
    "def uniform(low, up, size=None):\n",
    "    return [random.uniform(a, b) for a, b in zip(low, up)]\n",
    "toolbox.register(\"attr_float\", uniform, df.freq_min.tolist(), df.freq_max.tolist())\n",
    "toolbox.register(\"individual\", initIterate, creator.Individual, toolbox.attr_float)\n",
    "toolbox.register(\"population\", initRepeat, list, toolbox.individual)\n",
    "\n",
    "# Evaluation fonction\n",
    "toolbox.register(\"evaluate\", fitness)\n",
    "\n",
    "# On utilise la même méthode de sélection que dans le papier\n",
    "toolbox.register(\"select\", selNSGA2)\n",
    "\n",
    "# Executes a simulated binary crossover that modify in-place the input individuals.\n",
    "# The simulated binary crossover expects sequence individuals of floating point numbers.\n",
    "toolbox.register(\"mate\", cxSimulatedBinaryBounded, \n",
    "                 low=df.freq_min.tolist(), up=df.freq_max.tolist(), \n",
    "                 eta=10)\n",
    "\n",
    "toolbox.cx_prob = 0.9\n",
    "\n",
    "# Mutation classique en NSGA2\n",
    "toolbox.register(\"mutate\", mutPolynomialBounded, \n",
    "                 low=df.freq_min.tolist(), up=df.freq_max.tolist(), \n",
    "                 eta=20.0, indpb=1.0/N)\n",
    "\n",
    "# Mutation probability\n",
    "toolbox.mut_prob = 0.5\n",
    "\n",
    "fit_stats = Statistics(key=attrgetter(\"fitness.values\"))\n",
    "fit_stats.register('mean', np.mean)\n",
    "fit_stats.register('min', np.min)\n",
    "fit_stats.register('max', np.max)\n",
    "#fit_stats.register(\"pop\", deepcopy)\n",
    "\n",
    "toolbox.pop_size = 500\n",
    "toolbox.ngen = 30\n",
    "pop = toolbox.population(n=toolbox.pop_size)\n",
    "\n",
    "# This is just to assign the crowding distance to the individuals\n",
    "# no actual selection is done\n",
    "pop = toolbox.select(pop, len(pop))\n",
    "\n",
    "scaling = 125\n",
    "\n",
    "result, logs = eaMuPlusLambda(pop, toolbox, ngen=toolbox.ngen,\n",
    "                              lambda_=toolbox.pop_size, mu=toolbox.pop_size, \n",
    "                              cxpb=1 - toolbox.mut_prob, mutpb=toolbox.mut_prob, \n",
    "                              verbose=True, stats=fit_stats)\n",
    "temp = pd.DataFrame([(np.mean(satisfaction(x)), \n",
    "                      lifetime(g, x, df.t_request)[1]/scaling) \n",
    "                     for x in result if not any(np.isnan(x))],\n",
    "                    columns=[\"satisfaction\", \"lifetime\"])\n",
    "# Plotting part\n",
    "if True:\n",
    "    fig, ax = plt.subplots()\n",
    "    temp.plot(x=\"satisfaction\", y=\"lifetime\", ax=ax, kind='scatter', label=\"solutions\")\n",
    "    ax.plot(np.mean(satisfaction(df.freq_max)), \n",
    "            lifetime(g, df.freq_max, df.t_request)[1]/scaling, \n",
    "            marker='o', label='$\\mathcal{C}_{max}$')\n",
    "    ax.plot(np.mean(satisfaction(df.freq_min)), \n",
    "            lifetime(g, df.freq_min, df.t_request)[1]/scaling, \n",
    "            marker='o', label=\"$\\mathcal{C}_{min}$\")\n",
    "    ax.plot([np.mean(satisfaction(df.freq_min)),np.mean(satisfaction(df.freq_max))], \n",
    "            [lifetime(g, df.freq_min, df.t_request)[1]/scaling, \n",
    "             lifetime(g, df.freq_max, df.t_request)[1]/scaling],\n",
    "            \"--\")\n",
    "    ax.set_xlabel(\"$\\Gamma$\")\n",
    "    ax.set_ylabel(\"$\\mathcal{L}$\", rotation=0)\n",
    "    ax.set_xticks(np.arange(0, 1.2, 0.2))\n",
    "    ax.legend()\n",
    "    fig.savefig(\"test_pareto.pdf\")"
   ]
  },
  {
   "cell_type": "code",
   "execution_count": null,
   "metadata": {
    "collapsed": false
   },
   "outputs": [],
   "source": [
    "numbers = [np.binary_repr(i, width=N) for i in np.arange(2**(N))]\n",
    "\n",
    "def f(x):\n",
    "    res = []\n",
    "    for i in x:\n",
    "        solution = np.zeros(N)\n",
    "        for ind, letter in enumerate(i):\n",
    "            if letter == \"0\":\n",
    "                solution[ind] = df.freq_min[ind]\n",
    "            else:\n",
    "                solution[ind] = df.freq_max[ind]\n",
    "        res.append(solution)\n",
    "    return res\n",
    "extremes = f(numbers)\n",
    "fig_ex, ax_ex = plt.subplots()\n",
    "for point in extremes:    \n",
    "    ax_ex.plot(np.mean(satisfaction(point)), \n",
    "            lifetime(g, point, df.t_request), \n",
    "            marker='o')"
   ]
  },
  {
   "cell_type": "code",
   "execution_count": null,
   "metadata": {
    "collapsed": false
   },
   "outputs": [],
   "source": [
    "for r in result:\n",
    "    print(satisfaction(r))"
   ]
  },
  {
   "cell_type": "markdown",
   "metadata": {
    "collapsed": true
   },
   "source": [
    "### Création de traffic de Zipf"
   ]
  },
  {
   "cell_type": "markdown",
   "metadata": {},
   "source": [
    "D'abord, il faut créer un classement des noeuds les plus sollicités. "
   ]
  },
  {
   "cell_type": "code",
   "execution_count": null,
   "metadata": {
    "collapsed": false
   },
   "outputs": [],
   "source": [
    "np.random.permutation(g.nodes())"
   ]
  },
  {
   "cell_type": "markdown",
   "metadata": {},
   "source": [
    "Ensuite le traffic est proportionnel du noeud $i$ est $\\frac{\\lambda}{i}$ où $\\lambda$ est le traffic vers le noeud le plus sollicité"
   ]
  },
  {
   "cell_type": "code",
   "execution_count": null,
   "metadata": {
    "collapsed": false
   },
   "outputs": [],
   "source": [
    "1 / np.arange(1, len(g.nodes()) + 1)"
   ]
  },
  {
   "cell_type": "markdown",
   "metadata": {},
   "source": [
    "On a toujours un trafic poissonien cependant le rythme des variables est différent selon la popularité du contenu"
   ]
  },
  {
   "cell_type": "code",
   "execution_count": 41,
   "metadata": {
    "collapsed": false
   },
   "outputs": [
    {
     "data": {
      "text/plain": [
       "(0, 14798.538453877769)"
      ]
     },
     "execution_count": 41,
     "metadata": {},
     "output_type": "execute_result"
    }
   ],
   "source": [
    "lifetime(g, \n",
    "         [10 for x in range(len(g.nodes()))], \n",
    "         [0.1 for x in range(len(g.nodes()))])"
   ]
  },
  {
   "cell_type": "code",
   "execution_count": 100,
   "metadata": {
    "collapsed": false
   },
   "outputs": [
    {
     "data": {
      "text/plain": [
       "<matplotlib.figure.Figure at 0x7fabff58ef60>"
      ]
     },
     "metadata": {},
     "output_type": "display_data"
    },
    {
     "data": {
      "image/png": "[encoded data removed]",
      "text/plain": [
       "<matplotlib.figure.Figure at 0x7fabff589828>"
      ]
     },
     "metadata": {},
     "output_type": "display_data"
    },
    {
     "data": {
      "text/plain": [
       "<matplotlib.figure.Figure at 0x7fabff58eef0>"
      ]
     },
     "metadata": {},
     "output_type": "display_data"
    },
    {
     "data": {
      "image/png": "[encoded data removed]",
      "text/plain": [
       "<matplotlib.figure.Figure at 0x7fabff5a9cc0>"
      ]
     },
     "metadata": {},
     "output_type": "display_data"
    },
    {
     "data": {
      "text/plain": [
       "<matplotlib.figure.Figure at 0x7fabff5bcf28>"
      ]
     },
     "metadata": {},
     "output_type": "display_data"
    },
    {
     "data": {
      "image/png": "[encoded data removed]",
      "text/plain": [
       "<matplotlib.figure.Figure at 0x7fabff503eb8>"
      ]
     },
     "metadata": {},
     "output_type": "display_data"
    }
   ],
   "source": [
    "df_l = pd.concat(\n",
    "        [pd.DataFrame({\"c\": pd.Series(np.arange(0.5, 10)),\n",
    "                       \"T\": t}) for t in [0.5, 1, 2]])\n",
    "l_vector = lambda x: lifetime(g, \n",
    "                                [x[0] for _ in range(len(g.nodes()))],\n",
    "                                [x[1] for _ in range(len(g.nodes()))])[1]\n",
    "\n",
    "df_l[\"lifetime\"] = df_l.apply(l_vector,axis=1)\n",
    "df_l.set_index(\"c\", inplace=True)\n",
    "#df_l.groupby(\"T\").plot()\n",
    "for i, group in df_l.groupby(\"T\"):\n",
    "    plt.figure()\n",
    "    group.plot()\n"
   ]
  },
  {
   "cell_type": "code",
   "execution_count": 79,
   "metadata": {
    "collapsed": false
   },
   "outputs": [
    {
     "data": {
      "text/plain": [
       "(0, 35062.985825690273)"
      ]
     },
     "execution_count": 79,
     "metadata": {},
     "output_type": "execute_result"
    }
   ],
   "source": []
  },
  {
   "cell_type": "code",
   "execution_count": null,
   "metadata": {
    "collapsed": true
   },
   "outputs": [],
   "source": []
  }
 ],
 "metadata": {
  "kernelspec": {
   "display_name": "IPython (Python 3)",
   "language": "python",
   "name": "python3"
  },
  "language_info": {
   "codemirror_mode": {
    "name": "ipython",
    "version": 3
   },
   "file_extension": ".py",
   "mimetype": "text/x-python",
   "name": "python",
   "nbconvert_exporter": "python",
   "pygments_lexer": "ipython3",
   "version": "3.4.3"
  }
 },
 "nbformat": 4,
 "nbformat_minor": 0
}
