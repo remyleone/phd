{
 "cells": [
  {
   "cell_type": "code",
   "execution_count": 29,
   "metadata": {
    "collapsed": true
   },
   "outputs": [],
   "source": [
    "%matplotlib inline\n",
    "import pandas as pd\n",
    "import matplotlib.pyplot as plt"
   ]
  },
  {
   "cell_type": "code",
   "execution_count": 36,
   "metadata": {
    "collapsed": false
   },
   "outputs": [
    {
     "data": {
      "image/png": "[encoded data removed]",
      "text/plain": [
       "<matplotlib.figure.Figure at 0x7f46a2d99b00>"
      ]
     },
     "metadata": {},
     "output_type": "display_data"
    }
   ],
   "source": [
    "s = pd.Series({\n",
    "    \"Réveil\": 12,\n",
    "    \"Rx\\n broadcast\": 178,\n",
    "    \"Rx\\n unicast\": 222,\n",
    "    \"Tx\\n broadcast\": 1790,\n",
    "    \"Tx\\n unicast\": 1090,\n",
    "    #\"Unicast transmission to awake receiver\": 96\n",
    "})\n",
    "\n",
    "fig, ax = plt.subplots()\n",
    "ax = s.plot(kind=\"barh\")\n",
    "ax.set_xlabel(\"Energie (uJ)\")\n",
    "fig.savefig(\"consommation_contikimac.pdf\")"
   ]
  },
  {
   "cell_type": "code",
   "execution_count": null,
   "metadata": {
    "collapsed": true
   },
   "outputs": [],
   "source": []
  }
 ],
 "metadata": {
  "kernelspec": {
   "display_name": "IPython (Python 3)",
   "language": "python",
   "name": "python3"
  },
  "language_info": {
   "codemirror_mode": {
    "name": "ipython",
    "version": 3
   },
   "file_extension": ".py",
   "mimetype": "text/x-python",
   "name": "python",
   "nbconvert_exporter": "python",
   "pygments_lexer": "ipython3",
   "version": "3.5.1+"
  }
 },
 "nbformat": 4,
 "nbformat_minor": 0
}
