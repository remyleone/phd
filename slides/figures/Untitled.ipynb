{
 "cells": [
  {
   "cell_type": "code",
   "execution_count": 3,
   "metadata": {
    "collapsed": false
   },
   "outputs": [],
   "source": [
    "%matplotlib inline\n",
    "from random import random\n",
    "\n",
    "import numpy as np\n",
    "import pandas as pd\n",
    "import matplotlib.pyplot as plt\n",
    "import matplotlib\n",
    "\n",
    "def f(lower, upper, current, eta):\n",
    "    r = random()\n",
    "    delta_1 = (current - lower) / (upper - lower)\n",
    "    delta_2 = (upper - current) / (upper - lower)\n",
    "    delta_q = None\n",
    "    if r < 0.5:\n",
    "        delta_q = ((2 * r) + (1 - 2 * r) * (1 - delta_1) ** (eta + 1)) ** (1 / (eta + 1)) - 1\n",
    "    else:\n",
    "        delta_q = 1 - (2 * (1 - r) + 2 * (r - 0.5) * (1 - delta_2) ** (eta + 1)) ** (1 / (eta + 1))\n",
    "    return current + delta_q * (upper - lower)\n",
    "\n",
    "df = pd.DataFrame({\n",
    "            \"$\\eta = 20$\": pd.Series([f(1, 10, 5, 20) for x in range(1000)]),\n",
    "            \"$\\eta = 40$\": pd.Series([f(1, 10, 5, 40) for x in range(1000)]),\n",
    "            \"$\\eta = 10$\": pd.Series([f(1, 10, 5, 10) for x in range(1000)]),\n",
    "         })"
   ]
  },
  {
   "cell_type": "code",
   "execution_count": 8,
   "metadata": {
    "collapsed": false
   },
   "outputs": [
    {
     "data": {
      "text/plain": [
       "<matplotlib.axes._subplots.AxesSubplot at 0x7f0e0d1b8fd0>"
      ]
     },
     "execution_count": 8,
     "metadata": {},
     "output_type": "execute_result"
    },
    {
     "data": {
      "image/png": "[encoded data removed]",
      "text/plain": [
       "<matplotlib.figure.Figure at 0x7f0e0d3106a0>"
      ]
     },
     "metadata": {},
     "output_type": "display_data"
    }
   ],
   "source": [
    "df.plot.hist(stacked=True, alpha=0.5, bins=20)"
   ]
  },
  {
   "cell_type": "code",
   "execution_count": null,
   "metadata": {
    "collapsed": true
   },
   "outputs": [],
   "source": []
  }
 ],
 "metadata": {
  "kernelspec": {
   "display_name": "IPython (Python 3)",
   "language": "python",
   "name": "python3"
  },
  "language_info": {
   "codemirror_mode": {
    "name": "ipython",
    "version": 3
   },
   "file_extension": ".py",
   "mimetype": "text/x-python",
   "name": "python",
   "nbconvert_exporter": "python",
   "pygments_lexer": "ipython3",
   "version": "3.4.3"
  }
 },
 "nbformat": 4,
 "nbformat_minor": 0
}
