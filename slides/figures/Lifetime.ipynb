{
 "cells": [
  {
   "cell_type": "code",
   "execution_count": 54,
   "metadata": {
    "collapsed": false
   },
   "outputs": [
    {
     "data": {
      "text/plain": [
       "<matplotlib.axes._subplots.AxesSubplot at 0x7fbbfd797860>"
      ]
     },
     "execution_count": 54,
     "metadata": {},
     "output_type": "execute_result"
    },
    {
     "data": {
      "image/png": "[encoded data removed]",
      "text/plain": [
       "<matplotlib.figure.Figure at 0x7fbbfd77e9b0>"
      ]
     },
     "metadata": {},
     "output_type": "display_data"
    }
   ],
   "source": [
    "%matplotlib inline\n",
    "import pandas as pd\n",
    "import matplotlib.pyplot as plt\n",
    "\n",
    "\n",
    "pd.DataFrame([pd.Series(l05), pd.Series(l1)]).T.rename(columns={0: \"$\\lambda = 0.5$\",\n",
    "                                                               1: \"$\\lambda = 1$\"}).plot(kind=\"bar\")\n",
    "\n",
    "\n",
    "#pd.DataFrame([l05, l1], index=range(len(l05.keys())))"
   ]
  },
  {
   "cell_type": "code",
   "execution_count": 46,
   "metadata": {
    "collapsed": false
   },
   "outputs": [],
   "source": [
    "df05 = pd.read_csv(\"lambda0.5.csv\", names=[\"$c_u$\", \"Durée de vie\"], index_col=[\"$c_u$\"])\n",
    "df05[\"$\\lambda\"] = 0.5\n",
    "df1 = pd.read_csv(\"lambda1.csv\", names=[\"$c_u$\", \"Durée de vie\"], index_col=[\"$c_u$\"])\n",
    "df1[\"$\\lambda$\"] = 1\n",
    "df2 = pd.read_csv(\"lambda2.csv\", names=[\"$c_u$\", \"Durée de vie\"], index_col=[\"$c_u$\"])\n",
    "df2[\"$\\lambda$\"] = 2"
   ]
  },
  {
   "cell_type": "code",
   "execution_count": 44,
   "metadata": {
    "collapsed": false
   },
   "outputs": [
    {
     "data": {
      "text/html": [
       "<div>\n",
       "<table border=\"1\" class=\"dataframe\">\n",
       "  <thead>\n",
       "    <tr style=\"text-align: right;\">\n",
       "      <th></th>\n",
       "      <th>Durée de vie</th>\n",
       "      <th>$\\lambda = 0.5$</th>\n",
       "    </tr>\n",
       "    <tr>\n",
       "      <th>$c_u$</th>\n",
       "      <th></th>\n",
       "      <th></th>\n",
       "    </tr>\n",
       "  </thead>\n",
       "  <tbody>\n",
       "    <tr>\n",
       "      <th>1</th>\n",
       "      <td>119.69</td>\n",
       "      <td>0.5</td>\n",
       "    </tr>\n",
       "    <tr>\n",
       "      <th>2</th>\n",
       "      <td>158.52</td>\n",
       "      <td>0.5</td>\n",
       "    </tr>\n",
       "    <tr>\n",
       "      <th>3</th>\n",
       "      <td>196.85</td>\n",
       "      <td>0.5</td>\n",
       "    </tr>\n",
       "    <tr>\n",
       "      <th>4</th>\n",
       "      <td>234.68</td>\n",
       "      <td>0.5</td>\n",
       "    </tr>\n",
       "    <tr>\n",
       "      <th>5</th>\n",
       "      <td>272.01</td>\n",
       "      <td>0.5</td>\n",
       "    </tr>\n",
       "    <tr>\n",
       "      <th>6</th>\n",
       "      <td>308.86</td>\n",
       "      <td>0.5</td>\n",
       "    </tr>\n",
       "    <tr>\n",
       "      <th>7</th>\n",
       "      <td>345.24</td>\n",
       "      <td>0.5</td>\n",
       "    </tr>\n",
       "    <tr>\n",
       "      <th>8</th>\n",
       "      <td>381.16</td>\n",
       "      <td>0.5</td>\n",
       "    </tr>\n",
       "    <tr>\n",
       "      <th>9</th>\n",
       "      <td>416.62</td>\n",
       "      <td>0.5</td>\n",
       "    </tr>\n",
       "  </tbody>\n",
       "</table>\n",
       "</div>"
      ],
      "text/plain": [
       "       Durée de vie  $\\lambda = 0.5$\n",
       "$c_u$                               \n",
       "1            119.69              0.5\n",
       "2            158.52              0.5\n",
       "3            196.85              0.5\n",
       "4            234.68              0.5\n",
       "5            272.01              0.5\n",
       "6            308.86              0.5\n",
       "7            345.24              0.5\n",
       "8            381.16              0.5\n",
       "9            416.62              0.5"
      ]
     },
     "execution_count": 44,
     "metadata": {},
     "output_type": "execute_result"
    }
   ],
   "source": [
    "df05"
   ]
  },
  {
   "cell_type": "code",
   "execution_count": 63,
   "metadata": {
    "collapsed": false
   },
   "outputs": [
    {
     "data": {
      "image/png": "[encoded data removed]",
      "text/plain": [
       "<matplotlib.figure.Figure at 0x7fbbfd7f6ac8>"
      ]
     },
     "metadata": {},
     "output_type": "display_data"
    }
   ],
   "source": [
    "scaling_factor = 0.22\n",
    "\n",
    "ax = pd.DataFrame([\n",
    "        pd.Series.from_csv(\"lambda0.5.csv\") * scaling_factor,\n",
    "        pd.Series.from_csv(\"lambda1.csv\") * scaling_factor,\n",
    "        pd.Series.from_csv(\"lambda2.csv\") * scaling_factor]).T.rename(columns={\n",
    "            0: \"$\\lambda = 0.5$\",\n",
    "            1: \"$\\lambda = 1$\",\n",
    "            2: \"$\\lambda = 2$\",\n",
    "        }).plot(kind=\"bar\")\n",
    "\n",
    "ax.set_ylabel(\"$\\mathcal{L}$\", rotation=0)\n",
    "ax.set_xlabel(\"$c_u$\", rotation=0)\n",
    "ax.set_xticklabels(range(1, 10), rotation=0)\n",
    "plt.tight_layout()\n",
    "plt.savefig(\"new_lifetime.pdf\")"
   ]
  },
  {
   "cell_type": "code",
   "execution_count": null,
   "metadata": {
    "collapsed": true
   },
   "outputs": [],
   "source": []
  }
 ],
 "metadata": {
  "kernelspec": {
   "display_name": "IPython (Python 3)",
   "language": "python",
   "name": "python3"
  },
  "language_info": {
   "codemirror_mode": {
    "name": "ipython",
    "version": 3
   },
   "file_extension": ".py",
   "mimetype": "text/x-python",
   "name": "python",
   "nbconvert_exporter": "python",
   "pygments_lexer": "ipython3",
   "version": "3.4.3"
  }
 },
 "nbformat": 4,
 "nbformat_minor": 0
}
