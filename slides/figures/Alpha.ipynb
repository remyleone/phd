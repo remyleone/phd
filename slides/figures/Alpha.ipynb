{
 "cells": [
  {
   "cell_type": "code",
   "execution_count": 58,
   "metadata": {
    "collapsed": false
   },
   "outputs": [
    {
     "name": "stderr",
     "output_type": "stream",
     "text": [
      "/home/sieben/.local/lib/python3.4/site-packages/matplotlib/__init__.py:872: UserWarning: text.fontsize is deprecated and replaced with font.size; please use the latter.\n",
      "  warnings.warn(self.msg_depr % (key, alt_key))\n",
      "-c:72: FutureWarning: pd.ewm_mean is deprecated for ndarrays and will be removed in a future version\n",
      "-c:73: FutureWarning: pd.ewm_mean is deprecated for ndarrays and will be removed in a future version\n"
     ]
    },
    {
     "data": {
      "image/png": "[encoded data removed]",
      "text/plain": [
       "<matplotlib.figure.Figure at 0x7f7f02c9bbe0>"
      ]
     },
     "metadata": {},
     "output_type": "display_data"
    }
   ],
   "source": [
    "import pandas as pd\n",
    "import numpy as np\n",
    "import matplotlib.pyplot as plt\n",
    "ewma = pandas.stats.moments.ewma\n",
    "import matplotlib\n",
    "from math import sqrt\n",
    "SPINE_COLOR = 'gray'\n",
    "\n",
    "def latexify(fig_width=None, fig_height=None, columns=1):\n",
    "    \"\"\"Set up matplotlib's RC params for LaTeX plotting.\n",
    "    Call this before plotting a figure.\n",
    "\n",
    "    Parameters\n",
    "    ----------\n",
    "    fig_width : float, optional, inches\n",
    "    fig_height : float,  optional, inches\n",
    "    columns : {1, 2}\n",
    "    \"\"\"\n",
    "\n",
    "    # code adapted from http://www.scipy.org/Cookbook/Matplotlib/LaTeX_Examples\n",
    "\n",
    "    # Width and max height in inches for IEEE journals taken from\n",
    "    # computer.org/cms/Computer.org/Journal%20templates/transactions_art_guide.pdf\n",
    "\n",
    "    assert(columns in [1,2])\n",
    "\n",
    "    if fig_width is None:\n",
    "        fig_width = 3.39 if columns==1 else 6.9 # width in inches\n",
    "\n",
    "    if fig_height is None:\n",
    "        golden_mean = (sqrt(5)-1.0)/2.0    # Aesthetic ratio\n",
    "        fig_height = fig_width*golden_mean # height in inches\n",
    "\n",
    "    MAX_HEIGHT_INCHES = 8.0\n",
    "    if fig_height > MAX_HEIGHT_INCHES:\n",
    "        print(\"WARNING: fig_height too large:\" + fig_height + \n",
    "              \"so will reduce to\" + MAX_HEIGHT_INCHES + \"inches.\")\n",
    "        fig_height = MAX_HEIGHT_INCHES\n",
    "\n",
    "    params = {'backend': 'ps',\n",
    "              'text.latex.preamble': ['\\\\usepackage{gensymb}'],\n",
    "              'axes.labelsize': 8, # fontsize for x and y labels (was 10)\n",
    "              'axes.titlesize': 8,\n",
    "              'text.fontsize': 8, # was 10\n",
    "              'legend.fontsize': 8, # was 10\n",
    "              'xtick.labelsize': 8,\n",
    "              'ytick.labelsize': 8,\n",
    "              'text.usetex': True,\n",
    "              'figure.figsize': [fig_width,fig_height],\n",
    "              'font.family': 'serif'\n",
    "    }\n",
    "\n",
    "    matplotlib.rcParams.update(params)\n",
    "\n",
    "latexify()\n",
    "\n",
    "    \n",
    "    \n",
    "# make a hat function, and add noise\n",
    "x = np.linspace(0,1,100)\n",
    "x += np.random.normal( loc=0, scale=150, size=100 )\n",
    "x = x.cumsum()\n",
    "\n",
    "# take EWMA in both directions with a smaller span term\n",
    "#fwd = ewma( x, alpha=.3 ) # take EWMA in fwd direction\n",
    "#bwd = ewma( x[::-1], span=15 ) # take EWMA in bwd direction\n",
    "#c = np.vstack(( fwd, bwd[::-1] )) # lump fwd and bwd together\n",
    "#c = np.mean( c, axis=0 ) # average\n",
    " \n",
    "# regular EWMA, with bias against trend\n",
    "plt.plot( x, 'k', alpha=.5, label='Valeurs')\n",
    "plt.plot( ewma( x, alpha=.4 ), 'b--',  label='$\\\\alpha = 0.75$' )\n",
    "plt.plot( ewma( x, alpha=.01 ), 'g--', label='$\\\\alpha = 0.25$' )\n",
    " \n",
    "plt.xlim((0, 100))\n",
    "plt.xlabel(\"Temps\")\n",
    "plt.ylabel(\"X\", rotation=0)\n",
    "plt.legend(loc=\"best\")\n",
    "plt.tight_layout()\n",
    "plt.savefig(\"alpha_ewma.pdf\")"
   ]
  },
  {
   "cell_type": "code",
   "execution_count": 50,
   "metadata": {
    "collapsed": false
   },
   "outputs": [
    {
     "data": {
      "text/plain": [
       "array([ 49.24073488,  50.81521611,  50.42177125,  45.2111394 ,\n",
       "        52.32748333,  49.8706393 ,  49.66912451,  49.58078311,\n",
       "        44.8410091 ,  51.01158292,  51.42785655,  48.74168809,\n",
       "        47.75998763,  47.23898841,  52.06789198,  51.4443827 ,\n",
       "        48.71279792,  55.64930899,  49.60633983,  53.83002622,\n",
       "        52.62236969,  51.58635481,  51.83616235,  47.88854299,\n",
       "        49.4622058 ,  51.29980633,  47.93594636,  49.91282181,\n",
       "        47.25243966,  51.60649487,  46.35724508,  47.24790717,\n",
       "        48.74347532,  51.211024  ,  51.14883526,  52.58927726,\n",
       "        52.77282735,  48.04458173,  47.81849725,  47.5431142 ,\n",
       "        47.28753956,  47.97502174,  48.90491408,  50.71348985,\n",
       "        52.11487688,  48.73165002,  50.65109616,  47.20687881,\n",
       "        51.69024379,  46.78992797,  50.44501873,  48.8608217 ,\n",
       "        50.080312  ,  46.35635669,  50.21568698,  46.45957002,\n",
       "        49.86381432,  53.33056237,  50.97866223,  52.50396601,\n",
       "        52.83887933,  45.13323639,  47.45326182,  51.89865099,\n",
       "        49.48429568,  47.42684481,  49.23632299,  49.28931465,\n",
       "        51.13436719,  50.48689754,  52.85064413,  51.43560066,\n",
       "        51.44586261,  48.14748808,  49.63351522,  47.73947777,\n",
       "        48.76899181,  50.08874123,  41.27426149,  48.04423136,\n",
       "        50.95335132,  52.10333373,  50.78201808,  49.05290543,\n",
       "        47.56751374,  48.53497184,  46.82100477,  52.91187298,\n",
       "        51.16453066,  47.66604168,  50.54901977,  52.7117795 ,\n",
       "        48.04164273,  47.91747992,  50.09829573,  45.36254178,\n",
       "        50.65254303,  52.70461142,  48.76435383,  50.76890153])"
      ]
     },
     "execution_count": 50,
     "metadata": {},
     "output_type": "execute_result"
    }
   ],
   "source": [
    "np.random.normal( loc=50, scale=2, size=100 )"
   ]
  },
  {
   "cell_type": "code",
   "execution_count": null,
   "metadata": {
    "collapsed": true
   },
   "outputs": [],
   "source": []
  }
 ],
 "metadata": {
  "kernelspec": {
   "display_name": "IPython (Python 3)",
   "language": "python",
   "name": "python3"
  },
  "language_info": {
   "codemirror_mode": {
    "name": "ipython",
    "version": 3
   },
   "file_extension": ".py",
   "mimetype": "text/x-python",
   "name": "python",
   "nbconvert_exporter": "python",
   "pygments_lexer": "ipython3",
   "version": "3.4.3"
  }
 },
 "nbformat": 4,
 "nbformat_minor": 0
}
